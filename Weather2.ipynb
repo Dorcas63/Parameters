{
  "nbformat": 4,
  "nbformat_minor": 0,
  "metadata": {
    "colab": {
      "provenance": [],
      "authorship_tag": "ABX9TyOZZtSgdZ3gEhS84h2GEJlm",
      "include_colab_link": true
    },
    "kernelspec": {
      "name": "python3",
      "display_name": "Python 3"
    },
    "language_info": {
      "name": "python"
    }
  },
  "cells": [
    {
      "cell_type": "markdown",
      "metadata": {
        "id": "view-in-github",
        "colab_type": "text"
      },
      "source": [
        "<a href=\"https://colab.research.google.com/github/Dorcas63/Parameters/blob/main/Weather2.ipynb\" target=\"_parent\"><img src=\"https://colab.research.google.com/assets/colab-badge.svg\" alt=\"Open In Colab\"/></a>"
      ]
    },
    {
      "cell_type": "code",
      "execution_count": null,
      "metadata": {
        "id": "4Xa5ARZxBOwN"
      },
      "outputs": [],
      "source": [
        "!git clone https://github.com/ogunjosam/CARNASRDA_python_training.git\n",
        "\n",
        "%cd CARNASRDA_python_training\n",
        "\n",
        "!dir"
      ]
    }
  ]
}